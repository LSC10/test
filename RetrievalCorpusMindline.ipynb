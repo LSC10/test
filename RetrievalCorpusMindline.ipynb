{
  "nbformat": 4,
  "nbformat_minor": 0,
  "metadata": {
    "colab": {
      "provenance": [],
      "include_colab_link": true
    },
    "kernelspec": {
      "name": "python3",
      "display_name": "Python 3"
    },
    "language_info": {
      "name": "python"
    }
  },
  "cells": [
    {
      "cell_type": "markdown",
      "metadata": {
        "id": "view-in-github",
        "colab_type": "text"
      },
      "source": [
        "<a href=\"https://colab.research.google.com/github/LSC10/test/blob/main/RetrievalCorpusMindline.ipynb\" target=\"_parent\"><img src=\"https://colab.research.google.com/assets/colab-badge.svg\" alt=\"Open In Colab\"/></a>"
      ]
    },
    {
      "cell_type": "code",
      "execution_count": null,
      "metadata": {
        "colab": {
          "base_uri": "https://localhost:8080/"
        },
        "id": "LMF4z5ltmQAz",
        "outputId": "f8d1a2bf-0c17-4cbe-aec2-dfedbbf3219a"
      },
      "outputs": [
        {
          "output_type": "stream",
          "name": "stdout",
          "text": [
            "\u001b[?25l     \u001b[90m━━━━━━━━━━━━━━━━━━━━━━━━━━━━━━━━━━━━━━━━\u001b[0m \u001b[32m0.0/981.5 kB\u001b[0m \u001b[31m?\u001b[0m eta \u001b[36m-:--:--\u001b[0m\r\u001b[2K     \u001b[91m━━━━━━━━━━━━━━━━━━━━━━━━━━━━━━━━━━━━━\u001b[0m\u001b[91m╸\u001b[0m \u001b[32m972.8/981.5 kB\u001b[0m \u001b[31m42.2 MB/s\u001b[0m eta \u001b[36m0:00:01\u001b[0m\r\u001b[2K     \u001b[90m━━━━━━━━━━━━━━━━━━━━━━━━━━━━━━━━━━━━━━\u001b[0m \u001b[32m981.5/981.5 kB\u001b[0m \u001b[31m16.9 MB/s\u001b[0m eta \u001b[36m0:00:00\u001b[0m\n",
            "\u001b[?25h  Preparing metadata (setup.py) ... \u001b[?25l\u001b[?25hdone\n",
            "\u001b[2K     \u001b[90m━━━━━━━━━━━━━━━━━━━━━━━━━━━━━━━━━━━━━━━━\u001b[0m \u001b[32m43.5/43.5 kB\u001b[0m \u001b[31m1.7 MB/s\u001b[0m eta \u001b[36m0:00:00\u001b[0m\n",
            "\u001b[2K   \u001b[90m━━━━━━━━━━━━━━━━━━━━━━━━━━━━━━━━━━━━━━━━\u001b[0m \u001b[32m1.8/1.8 MB\u001b[0m \u001b[31m31.2 MB/s\u001b[0m eta \u001b[36m0:00:00\u001b[0m\n",
            "\u001b[2K   \u001b[90m━━━━━━━━━━━━━━━━━━━━━━━━━━━━━━━━━━━━━━━━\u001b[0m \u001b[32m2.5/2.5 MB\u001b[0m \u001b[31m37.2 MB/s\u001b[0m eta \u001b[36m0:00:00\u001b[0m\n",
            "\u001b[2K   \u001b[90m━━━━━━━━━━━━━━━━━━━━━━━━━━━━━━━━━━━━━━━━\u001b[0m \u001b[32m62.9/62.9 kB\u001b[0m \u001b[31m3.2 MB/s\u001b[0m eta \u001b[36m0:00:00\u001b[0m\n",
            "\u001b[2K   \u001b[90m━━━━━━━━━━━━━━━━━━━━━━━━━━━━━━━━━━━━━━━━\u001b[0m \u001b[32m155.3/155.3 kB\u001b[0m \u001b[31m11.0 MB/s\u001b[0m eta \u001b[36m0:00:00\u001b[0m\n",
            "\u001b[2K   \u001b[90m━━━━━━━━━━━━━━━━━━━━━━━━━━━━━━━━━━━━━━━━\u001b[0m \u001b[32m44.2/44.2 kB\u001b[0m \u001b[31m2.7 MB/s\u001b[0m eta \u001b[36m0:00:00\u001b[0m\n",
            "\u001b[2K   \u001b[90m━━━━━━━━━━━━━━━━━━━━━━━━━━━━━━━━━━━━━━━━\u001b[0m \u001b[32m50.0/50.0 kB\u001b[0m \u001b[31m2.7 MB/s\u001b[0m eta \u001b[36m0:00:00\u001b[0m\n",
            "\u001b[2K   \u001b[90m━━━━━━━━━━━━━━━━━━━━━━━━━━━━━━━━━━━━━━━━\u001b[0m \u001b[32m44.4/44.4 kB\u001b[0m \u001b[31m2.9 MB/s\u001b[0m eta \u001b[36m0:00:00\u001b[0m\n",
            "\u001b[2K   \u001b[90m━━━━━━━━━━━━━━━━━━━━━━━━━━━━━━━━━━━━━━━━\u001b[0m \u001b[32m590.6/590.6 kB\u001b[0m \u001b[31m29.3 MB/s\u001b[0m eta \u001b[36m0:00:00\u001b[0m\n",
            "\u001b[2K   \u001b[90m━━━━━━━━━━━━━━━━━━━━━━━━━━━━━━━━━━━━━━━━\u001b[0m \u001b[32m167.6/167.6 kB\u001b[0m \u001b[31m11.9 MB/s\u001b[0m eta \u001b[36m0:00:00\u001b[0m\n",
            "\u001b[2K   \u001b[90m━━━━━━━━━━━━━━━━━━━━━━━━━━━━━━━━━━━━━━━━\u001b[0m \u001b[32m3.1/3.1 MB\u001b[0m \u001b[31m45.1 MB/s\u001b[0m eta \u001b[36m0:00:00\u001b[0m\n",
            "\u001b[2K   \u001b[90m━━━━━━━━━━━━━━━━━━━━━━━━━━━━━━━━━━━━━━━━\u001b[0m \u001b[32m192.1/192.1 kB\u001b[0m \u001b[31m11.9 MB/s\u001b[0m eta \u001b[36m0:00:00\u001b[0m\n",
            "\u001b[2K   \u001b[90m━━━━━━━━━━━━━━━━━━━━━━━━━━━━━━━━━━━━━━━━\u001b[0m \u001b[32m50.9/50.9 kB\u001b[0m \u001b[31m3.6 MB/s\u001b[0m eta \u001b[36m0:00:00\u001b[0m\n",
            "\u001b[2K   \u001b[90m━━━━━━━━━━━━━━━━━━━━━━━━━━━━━━━━━━━━━━━━\u001b[0m \u001b[32m223.6/223.6 kB\u001b[0m \u001b[31m11.1 MB/s\u001b[0m eta \u001b[36m0:00:00\u001b[0m\n",
            "\u001b[2K   \u001b[90m━━━━━━━━━━━━━━━━━━━━━━━━━━━━━━━━━━━━━━━━\u001b[0m \u001b[32m303.4/303.4 kB\u001b[0m \u001b[31m19.5 MB/s\u001b[0m eta \u001b[36m0:00:00\u001b[0m\n",
            "\u001b[2K   \u001b[90m━━━━━━━━━━━━━━━━━━━━━━━━━━━━━━━━━━━━━━━━\u001b[0m \u001b[32m114.6/114.6 kB\u001b[0m \u001b[31m8.5 MB/s\u001b[0m eta \u001b[36m0:00:00\u001b[0m\n",
            "\u001b[?25h  Building wheel for langdetect (setup.py) ... \u001b[?25l\u001b[?25hdone\n"
          ]
        }
      ],
      "source": [
        "%pip install --quiet --upgrade \\\n",
        "    unstructured \\\n",
        "    langchain \\\n",
        "    langchain-community \\\n",
        "    langchain-openai \\\n",
        "    langchain-text-splitters \\\n",
        "    langgraph \\\n",
        "    beautifulsoup4\n"
      ]
    },
    {
      "cell_type": "markdown",
      "source": [
        "Loading the data: mindline, wysa, intellect, other_resources"
      ],
      "metadata": {
        "id": "TaJrhCGg8Ixg"
      }
    },
    {
      "cell_type": "code",
      "source": [
        "import os, getpass\n",
        "\n",
        "os.environ[\"OPENAI_API_KEY\"] = getpass.getpass(\"Enter your OpenAI API key: \")\n",
        "os.environ[\"LANGSMITH_API_KEY\"] = getpass.getpass(\"Enter your LangSmith API key: \")\n",
        "os.environ[\"LANGSMITH_TRACING\"] = \"true\"\n"
      ],
      "metadata": {
        "colab": {
          "base_uri": "https://localhost:8080/"
        },
        "id": "rDiyNMU6oTHn",
        "outputId": "bbc3e65a-98cb-42ae-fc4f-ce71735d8d87"
      },
      "execution_count": null,
      "outputs": [
        {
          "name": "stdout",
          "output_type": "stream",
          "text": [
            "Enter your OpenAI API key: ··········\n",
            "Enter your LangSmith API key: ··········\n"
          ]
        }
      ]
    },
    {
      "cell_type": "code",
      "source": [
        "from google.colab import drive\n",
        "drive.mount('/content/drive')"
      ],
      "metadata": {
        "colab": {
          "base_uri": "https://localhost:8080/"
        },
        "id": "Mc-M4K7xoXM0",
        "outputId": "11b8551c-bcf8-495d-a26b-58e7ff217942"
      },
      "execution_count": null,
      "outputs": [
        {
          "output_type": "stream",
          "name": "stdout",
          "text": [
            "Mounted at /content/drive\n"
          ]
        }
      ]
    },
    {
      "cell_type": "code",
      "source": [
        "!ls \"/content/drive/Shareddrives/MOHT | Internal/Mindline Datasets/\"\n"
      ],
      "metadata": {
        "colab": {
          "base_uri": "https://localhost:8080/"
        },
        "id": "Ksd8bv4yoXRh",
        "outputId": "5b7bd520-6ab1-4b20-eb73-a318645a0a7e"
      },
      "execution_count": null,
      "outputs": [
        {
          "output_type": "stream",
          "name": "stdout",
          "text": [
            "intellect_resources_urls.csv  other_resources_urls.csv\n",
            "mindline_url.csv\t      wysa_resources_urls.csv\n"
          ]
        }
      ]
    },
    {
      "cell_type": "code",
      "source": [
        "import pandas as pd\n",
        "\n",
        "base_path = \"/content/drive/Shareddrives/MOHT | Internal/Mindline Datasets/\"\n",
        "\n",
        "# Load each dataset\n",
        "mindline_df = pd.read_csv(base_path + \"mindline_url.csv\")\n",
        "wysa_df = pd.read_csv(base_path + \"wysa_resources_urls.csv\")\n",
        "intellect_df = pd.read_csv(base_path + \"intellect_resources_urls.csv\")\n",
        "other_df = pd.read_csv(base_path + \"other_resources_urls.csv\")\n"
      ],
      "metadata": {
        "id": "whPfuo0RoXUc"
      },
      "execution_count": null,
      "outputs": []
    },
    {
      "cell_type": "code",
      "source": [
        "for name, df in zip(\n",
        "    [\"Mindline\", \"Wysa\", \"Intellect\", \"Other\"],\n",
        "    [mindline_df, wysa_df, intellect_df, other_df]\n",
        "):\n",
        "    print(f\"\\n==== {name} ====\")\n",
        "    print(df.head(3))\n",
        "    print(df.columns)\n",
        "    print(f\"{name} rows: {len(df)}\")\n"
      ],
      "metadata": {
        "colab": {
          "base_uri": "https://localhost:8080/"
        },
        "id": "eEj4LFVgoXWq",
        "outputId": "8daefbc4-4ec0-4ad1-86ec-43bfb7130f5f"
      },
      "execution_count": null,
      "outputs": [
        {
          "output_type": "stream",
          "name": "stdout",
          "text": [
            "\n",
            "==== Mindline ====\n",
            "                                                 url\n",
            "0  https://www.mindline.sg/youth/resource-group/s...\n",
            "1  https://www.mindline.sg/youth/resource-group/h...\n",
            "2  https://www.mindline.sg/youth/resource-group/a...\n",
            "Index(['url'], dtype='object')\n",
            "Mindline rows: 446\n",
            "\n",
            "==== Wysa ====\n",
            "               Tool_id                                             source  \\\n",
            "0  understand_yourself  https://mindline.sg/workspace?wysa_tool_id=und...   \n",
            "1       build_strength  https://mindline.sg/workspace?wysa_tool_id=bui...   \n",
            "2         hold_another  https://mindline.sg/workspace?wysa_tool_id=hol...   \n",
            "\n",
            "                                        page_content  \n",
            "0  This wysa exercise is called Understand Yourse...  \n",
            "1  This wysa exercise is called Build Strength. T...  \n",
            "2  This wysa exercise is called Hold Another. Thi...  \n",
            "Index(['Tool_id', 'source', 'page_content'], dtype='object')\n",
            "Wysa rows: 63\n",
            "\n",
            "==== Intellect ====\n",
            "                          Tool_id  \\\n",
            "0      Intellect: Staying Focused   \n",
            "1     Intellect: stop ovethinking   \n",
            "2  Intellect: overcome insecurity   \n",
            "\n",
            "                                              source  \\\n",
            "0  https://mindline.sg/youth/home?intellect-tool-...   \n",
            "1  https://mindline.sg/youth/home?intellect-tool-...   \n",
            "2  https://mindline.sg/youth/home?intellect-tool-...   \n",
            "\n",
            "                                        page_content  \n",
            "0  Staying focus: This exercise provides two effe...  \n",
            "1  Stop Overthinking: This exercise aids in overc...  \n",
            "2  Overcome insecurity: This exercise helps to id...  \n",
            "Index(['Tool_id', 'source', 'page_content'], dtype='object')\n",
            "Intellect rows: 10\n",
            "\n",
            "==== Other ====\n",
            "      Tool_id                                   source  \\\n",
            "0    let_talk  https://letstalk.mindline.sg/categories   \n",
            "1  assessment       https://www.mindline.sg/assessment   \n",
            "\n",
            "                                        page_content  \n",
            "0  Let's Talk  is a dynamic, youth-centric digita...  \n",
            "1  This mindline questionaire  is a carefully que...  \n",
            "Index(['Tool_id', 'source', 'page_content'], dtype='object')\n",
            "Other rows: 2\n"
          ]
        }
      ]
    },
    {
      "cell_type": "code",
      "source": [
        "mindline_df.columns\n",
        "wysa_df.columns\n",
        "intellect_df.columns\n",
        "other_df.columns\n"
      ],
      "metadata": {
        "colab": {
          "base_uri": "https://localhost:8080/"
        },
        "id": "tYkSrmBaoXY4",
        "outputId": "fb4cc5eb-5c6f-4972-dc4f-cf784d1b0c9c"
      },
      "execution_count": null,
      "outputs": [
        {
          "output_type": "execute_result",
          "data": {
            "text/plain": [
              "Index(['Tool_id', 'source', 'page_content'], dtype='object')"
            ]
          },
          "metadata": {},
          "execution_count": 7
        }
      ]
    },
    {
      "cell_type": "markdown",
      "source": [
        "Web scraping the mindline resources using the urls. Wysa, intellect, and other resources do not need to be web scraped because they already have page_content provided."
      ],
      "metadata": {
        "id": "4sfYf0WR8OQD"
      }
    },
    {
      "cell_type": "code",
      "source": [
        "from langchain_community.document_loaders import WebBaseLoader\n",
        "\n",
        "\n"
      ],
      "metadata": {
        "id": "khXm-kOhfTfb"
      },
      "execution_count": null,
      "outputs": []
    },
    {
      "cell_type": "code",
      "source": [
        "def web_scrape(urls):\n",
        "  # Initialize loader WITHOUT specifying bs4_strainer (scrape all visible text)\n",
        "  loader = WebBaseLoader(web_paths=urls)\n",
        "\n",
        "  # Load documents\n",
        "  docs = loader.load()\n",
        "\n",
        "  # Print summary of results\n",
        "  print(f\"Scraped {len(docs)} documents\\n\")\n",
        "\n",
        "  # Preview the first document's content\n",
        "  if docs:\n",
        "      print(\"--- First Document Preview ---\\n\")\n",
        "      print(docs[0].page_content[:1500])  # Print the first 1500 characters\n",
        "  else:\n",
        "      print(\"No content was scraped.\")\n",
        "  return docs\n",
        "\n"
      ],
      "metadata": {
        "id": "ZRPqgOoXtI3c"
      },
      "execution_count": null,
      "outputs": []
    },
    {
      "cell_type": "code",
      "source": [
        "urls = mindline_df[\"url\"].tolist()\n"
      ],
      "metadata": {
        "id": "BmtceirUtkFB"
      },
      "execution_count": null,
      "outputs": []
    },
    {
      "cell_type": "code",
      "source": [
        "web_scrape(urls[150:155])"
      ],
      "metadata": {
        "colab": {
          "base_uri": "https://localhost:8080/"
        },
        "id": "R8b3U49yuObo",
        "outputId": "834ebbc5-e9b4-4258-fb60-024565bafb7e"
      },
      "execution_count": null,
      "outputs": [
        {
          "output_type": "stream",
          "name": "stdout",
          "text": [
            "Scraped 5 documents\n",
            "\n",
            "--- First Document Preview ---\n",
            "\n",
            "Tips for building resilience - ArticleGet Help Now!ArticlesTips for building resilienceHaving resilienceWhy is it that sometimes people go through really rough times and still bounce back? The difference is that those who bounce back are using resilience. The skill of resilience is something that can be learned. Resilience - the ability to adapt well in the face of hard times - is what makes some people seem like they have \"got bounce\" while others don't.Tips to build resilience1.Get together with your friends and parents - ask questions and listen to the answers2.Cut yourself some slack - go easy on yourself when you are met with stresses3.Create a hassle-free zone - not to keep everyone out, but to have a space free from stresses4.Map out a routine and stick to it - during times of stress, don't forget the routines that give you comfort5.Take care of yourself - physically, mentally and spirituallyTips to build resilience6.Take control - even in the midst of uncertainty, you can move towards your goals one step at a time. Even accomplishing small steps can help.7.Express yourself - do something to capture your emotions like journalling or creating art8.Help somebody - solving someone else's problems can get your mind off your own problems9.Put things in perspective10.Turn it off - sometimes, the news can add to the feeling that nothing is going rightLearning resilienceYou can learn resilience, but just because you learn resilience doesn't mean that you won't feel stressed or\n"
          ]
        },
        {
          "output_type": "execute_result",
          "data": {
            "text/plain": [
              "[Document(metadata={'source': 'https://www.mindline.sg/youth/article/tips-for-building-resilience?type=interest', 'title': 'Tips for building resilience - Article', 'language': 'en'}, page_content='Tips for building resilience - ArticleGet Help Now!ArticlesTips for building resilienceHaving resilienceWhy is it that sometimes people go through really rough times and still bounce back? The difference is that those who bounce back are using resilience. The skill of resilience is something that can be learned. Resilience - the ability to adapt well in the face of hard times - is what makes some people seem like they have \"got bounce\" while others don\\'t.Tips to build resilience1.Get together with your friends and parents - ask questions and listen to the answers2.Cut yourself some slack - go easy on yourself when you are met with stresses3.Create a hassle-free zone - not to keep everyone out, but to have a space free from stresses4.Map out a routine and stick to it - during times of stress, don\\'t forget the routines that give you comfort5.Take care of yourself - physically, mentally and spirituallyTips to build resilience6.Take control - even in the midst of uncertainty, you can move towards your goals one step at a time. Even accomplishing small steps can help.7.Express yourself - do something to capture your emotions like journalling or creating art8.Help somebody - solving someone else\\'s problems can get your mind off your own problems9.Put things in perspective10.Turn it off - sometimes, the news can add to the feeling that nothing is going rightLearning resilienceYou can learn resilience, but just because you learn resilience doesn\\'t mean that you won\\'t feel stressed or anxious. Developing resilience is a personal journey, and each person will take his/ her own time along the way. The skills of resilience you learn during really bad times will be useful even after the bad times end, and they are good skills to have everyday.Click to read full articleIs this article useful?Leave your review!'),\n",
              " Document(metadata={'source': 'https://www.mindline.sg/youth/article/7-things-you-need-to-know-about-depression?type=interest', 'title': '7 things you need to know about depression - Article', 'language': 'en'}, page_content=\"7 things you need to know about depression - ArticleGet Help Now!Articles7 things you need to know about depressionDepression is more than feeling sad Sadness for most people comes and goes, and doesn’t get in the way of things that matter to them. The experience described as clinical depression differs from this because of the impact, and the length of time a person feels sad. People with depression also talk about other experiences, such as finding it hard to concentrate, feeling hopeless, having low motivation, or not wanting to do things they used to enjoy.Sometimes, talking about depression isn't enoughThe experience of depression can have some people feeling isolated and alone, even if their friends and family are supportive and trying to help. An important part of the recovery journey is looking for mental health professionals who can offer treatments and strategies.Depression isn’t the same as being lazyExperiencing depression can mean that people struggle to get out of bed, get to school or work, or take part in activities that they used to enjoy. This can make them look like they're not trying hard enough. However, the misconception that they are lazy or weak can make it more difficult for them to seek help and recover.Depression can affect anyonePeople of all races, sexes and classes can be affected by depression. For some people who experience depression, patterns of critical self-thinking can be traced back to troubles in childhood. For others, there may not be a clear answer or explanation.No one chooses to have depressionPeople don't choose to be depressed. Telling a person with depression to cheer up or to ‘snap out of it’ can be harmful and can leave them feeling more isolated.Getting help can be really hardFor many people, depression can bring feelings of shame or hopelessness, and a sense of being broken or unworthy. This can make it a huge struggle to ask for support, or to get help to make things better. There are many options for treating depressionDepending on the severity and cause of the depression, different treatment methods are available, which are research-based and provided by mental health professionals. It's important that you feel comfortable with the mental health professional you choose to work with.Click to read full articleIs this article useful?Leave your review!\"),\n",
              " Document(metadata={'source': 'https://www.mindline.sg/youth/article/confronting-conflict-with-friends?type=interest', 'title': 'Confronting conflict with friends - Article', 'language': 'en'}, page_content=\"Confronting conflict with friends - ArticleGet Help Now!ArticlesConfronting conflict with friendsDifficult conversations are sometimes necessaryIt can be difficult for some of us to confront a relationship issue, so it is important for these individuals to remember that friendships are relationships of choice, unlike family relationships that are relationships by blood or law. This implies some level of reciprocity in the relationship, and when you feel like you are being consistently shortchanged, remind yourself that it’s okay to share your feelings with your friend.Rules of communication and conflict mediation1.Let your friend know that you would like to have a discussion about the relationship2.Choose a time and place that is agreeable for both of you and be sure to choose as neutral a place as you can3.Always use '/I statements'. It’s important that you focus on how you are feeling or what you are thinking in response to his/ her behaviour4.Listen to what your friend has to say once you’ve opened up your own concernsRules of communication and conflict mediation5.Work towards a compromise6.If your friend is not buying into your perspective, you may want to take a step back and see if your own assessment is as objective as it should be7.Remember, too, that there are always going to be multiple realities at play. What you see and believe is your reality but the same is true for your friend.8.An important reminder: Throughout the course of a friendship, always own your feelingsClick to read full articleIs this article useful?Leave your review!\"),\n",
              " Document(metadata={'source': 'https://www.mindline.sg/youth/article/dealing-with-uncertainty?type=interest', 'title': 'Dealing with uncertainty - Article', 'language': 'en'}, page_content='Dealing with uncertainty - ArticleGet Help Now!ArticlesDealing with uncertaintyWe often try to cope with uncertainty through:1.Seeking excessive reassurance from others2.Micromanaging others3.Procrastinating4.Repeatedly checking thingsHow to cope with uncertainty1.Take actions over the things you can control2.Challenge your need for certainty. Ask yourself: • What are the advantages and disadvantages of certainty?• How much can you be certain about in life?• Do you assume bad things will happen because of uncertain outcomes?• What is the likelihood that bad things will happen?How to cope with uncertainty3.Learn to accept uncertainty• Identify your uncertainty triggers• Recognise when you feel the need for certainty • Allow yourself to feel the uncertainty• Let go• Shift your attention4.Focus on the present5.Manage stress and anxiety (through relaxation, exercise, sleep and a healthy diet)Click to read full articleIs this article useful?Leave your review!'),\n",
              " Document(metadata={'source': 'https://www.mindline.sg/youth/article/creativity-is-your-secret-advantage-for-mental-health-and-wellbeing?type=interest', 'title': 'Creativity is your secret advantage for mental health and wellbeing - Article', 'language': 'en'}, page_content='Creativity is your secret advantage for mental health and wellbeing - ArticleGet Help Now!ArticlesCreativity is your secret advantage for mental health and wellbeingMental health benefits of creative activities1.Increases positive emotions2.Lessens depressive symptoms3.Reduces stress4.Decreases anxiety5.Improves immune system functioningCreative leaders are more likely to: 1.Make business model changes to realise strategies2.Invite disruptive innovation3.Consider previously unheard-of-ways to drastically change enterprise4.Be comfortable with ambiguity5.Score higher on innovation6.Are courageous and visionary to make decisions that alter the status quoInjecting creative endeavours into the business world helps the company thrive and improve mental wellbeing of the team members.How creativity improves mental healthDoing creative activities help us reach a state of flow. The state of flow is when brainwaves slow down, where original thoughts are better able to form. Pleasure, satisfaction-inducing chemicals are released. Flow is also achieved during meditation, mindfulness and yoga. This state of mine helps you find peace, calm and happiness by blocking out external stimuli.Click to read full articleIs this article useful?Leave your review!')]"
            ]
          },
          "metadata": {},
          "execution_count": 47
        }
      ]
    },
    {
      "cell_type": "code",
      "source": [
        "mindline_df = pd.DataFrame([{\n",
        "    \"source\": doc.metadata.get(\"source\", \"\"),\n",
        "    \"page_content\": doc.page_content\n",
        "} for doc in docs])\n",
        "\n",
        "# Optional: Preview result\n",
        "print(mindline_df.head(2))"
      ],
      "metadata": {
        "colab": {
          "base_uri": "https://localhost:8080/"
        },
        "id": "5eXS9aLTwg6o",
        "outputId": "15788643-34d4-4c7d-a623-0be05c264499"
      },
      "execution_count": null,
      "outputs": [
        {
          "output_type": "stream",
          "name": "stdout",
          "text": [
            "                                              source  \\\n",
            "0  https://www.mindline.sg/youth/resource-group/m...   \n",
            "\n",
            "                          page_content  \n",
            "0  Confidence and Self-Esteem - Myself  \n"
          ]
        }
      ]
    },
    {
      "cell_type": "markdown",
      "source": [
        "Combining All Four Resources (mindline, wysa, intellect, and other) into one corpus"
      ],
      "metadata": {
        "id": "m1ZP4iYb-k-6"
      }
    },
    {
      "cell_type": "code",
      "source": [
        "from langchain_core.documents import Document\n",
        "\n",
        "def df_to_documents(df, source_col=\"source\", content_col=\"page_content\"):\n",
        "    return [\n",
        "        Document(page_content=row[content_col], metadata={\"source\": row[source_col]})\n",
        "        for _, row in df.iterrows()\n",
        "    ]\n",
        "\n",
        "mindline_docs = df_to_documents(mindline_df)\n",
        "wysa_docs = df_to_documents(wysa_df)\n",
        "intellect_docs = df_to_documents(intellect_df)\n",
        "other_docs = df_to_documents(other_df)\n"
      ],
      "metadata": {
        "id": "pYrsRdvPoXd6"
      },
      "execution_count": null,
      "outputs": []
    },
    {
      "cell_type": "code",
      "source": [
        "all_docs = mindline_docs + wysa_docs + intellect_docs + other_docs\n",
        "print(f\"Total combined documents: {len(all_docs)}\")\n"
      ],
      "metadata": {
        "id": "8aQAfoJf-xxv"
      },
      "execution_count": null,
      "outputs": []
    },
    {
      "cell_type": "markdown",
      "source": [
        "Split corpus into chunks for better embedding and retrieval"
      ],
      "metadata": {
        "id": "a7BHSpXK-5IE"
      }
    },
    {
      "cell_type": "code",
      "source": [
        "from langchain_text_splitters import RecursiveCharacterTextSplitter\n",
        "\n",
        "text_splitter = RecursiveCharacterTextSplitter(\n",
        "    chunk_size=1000,\n",
        "    chunk_overlap=200,\n",
        "    add_start_index=True,\n",
        ")\n",
        "\n",
        "all_chunks = text_splitter.split_documents(all_docs)\n",
        "print(f\"Total chunks after splitting: {len(all_chunks)}\")\n"
      ],
      "metadata": {
        "id": "6NtrR0e8-x0n"
      },
      "execution_count": null,
      "outputs": []
    },
    {
      "cell_type": "code",
      "source": [
        "# store in vector store\n",
        "from langchain_openai import OpenAIEmbeddings\n",
        "from langchain_core.vectorstores import InMemoryVectorStore  # For quick testing; FAISS is better for production\n",
        "\n",
        "embeddings = OpenAIEmbeddings()\n",
        "vector_store = InMemoryVectorStore(embeddings)\n",
        "\n",
        "_ = vector_store.add_documents(all_chunks)\n"
      ],
      "metadata": {
        "id": "PYgxfD0V-x5W"
      },
      "execution_count": null,
      "outputs": []
    },
    {
      "cell_type": "code",
      "source": [
        "query = \"How do I deal with anxiety from school stress?\"\n",
        "results = vector_store.similarity_search(query, k=3)\n",
        "\n",
        "for i, doc in enumerate(results):\n",
        "    print(f\"\\n--- Document {i+1} ---\")\n",
        "    print(doc.page_content[:500])\n",
        "    print(\"Source:\", doc.metadata.get(\"source\"))\n"
      ],
      "metadata": {
        "id": "OMKmD2d2-x8K"
      },
      "execution_count": null,
      "outputs": []
    },
    {
      "cell_type": "code",
      "source": [],
      "metadata": {
        "id": "Dolkzw0g-yDV"
      },
      "execution_count": null,
      "outputs": []
    }
  ]
}